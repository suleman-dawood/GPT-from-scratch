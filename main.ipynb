{
 "cells": [
  {
   "cell_type": "code",
   "execution_count": 3,
   "metadata": {},
   "outputs": [
    {
     "name": "stdout",
     "output_type": "stream",
     "text": [
      "--2024-11-25 18:48:50--  https://raw.githubusercontent.com/karpathy/char-rnn/master/data/tinyshakespeare/input.txt\n",
      "Resolving raw.githubusercontent.com (raw.githubusercontent.com)... 2606:50c0:8002::154, 2606:50c0:8000::154, 2606:50c0:8001::154, ...\n",
      "Connecting to raw.githubusercontent.com (raw.githubusercontent.com)|2606:50c0:8002::154|:443... connected.\n",
      "HTTP request sent, awaiting response... 200 OK\n",
      "Length: 1115394 (1.1M) [text/plain]\n",
      "Saving to: ‘input.txt.1’\n",
      "\n",
      "input.txt.1         100%[===================>]   1.06M  1.08MB/s    in 1.0s    \n",
      "\n",
      "2024-11-25 18:48:51 (1.08 MB/s) - ‘input.txt.1’ saved [1115394/1115394]\n",
      "\n"
     ]
    }
   ],
   "source": [
    "# getting dataset\n",
    "!wget https://raw.githubusercontent.com/karpathy/char-rnn/master/data/tinyshakespeare/input.txt"
   ]
  },
  {
   "cell_type": "code",
   "execution_count": 4,
   "metadata": {},
   "outputs": [
    {
     "name": "stdout",
     "output_type": "stream",
     "text": [
      "1115394\n",
      "First Citizen:\n",
      "Before we proceed any further, hear me speak.\n",
      "\n",
      "All:\n",
      "Speak, speak.\n",
      "\n",
      "First Citizen:\n",
      "You\n"
     ]
    }
   ],
   "source": [
    "# reading file\n",
    "with open(\"input.txt\", 'r', encoding='utf-8') as file:\n",
    "    full_text = file.read()\n",
    "print(len(full_text))\n",
    "print(full_text[:100])"
   ]
  },
  {
   "cell_type": "code",
   "execution_count": 5,
   "metadata": {},
   "outputs": [
    {
     "name": "stdout",
     "output_type": "stream",
     "text": [
      "['\\n', ' ', '!', '$', '&', \"'\", ',', '-', '.', '3', ':', ';', '?', 'A', 'B', 'C', 'D', 'E', 'F', 'G', 'H', 'I', 'J', 'K', 'L', 'M', 'N', 'O', 'P', 'Q', 'R', 'S', 'T', 'U', 'V', 'W', 'X', 'Y', 'Z', 'a', 'b', 'c', 'd', 'e', 'f', 'g', 'h', 'i', 'j', 'k', 'l', 'm', 'n', 'o', 'p', 'q', 'r', 's', 't', 'u', 'v', 'w', 'x', 'y', 'z']\n"
     ]
    }
   ],
   "source": [
    "characters = sorted(set(full_text))\n",
    "print(characters)"
   ]
  },
  {
   "cell_type": "code",
   "execution_count": 6,
   "metadata": {},
   "outputs": [
    {
     "name": "stdout",
     "output_type": "stream",
     "text": [
      "Encoded: [46, 53, 50, 39]\n",
      "Decoded: hola\n"
     ]
    }
   ],
   "source": [
    "# look into tiktoken\n",
    "\n",
    "# character-to-index mapping\n",
    "def create_mapping():\n",
    "    mapping = {}\n",
    "    for i, ch in enumerate(characters):\n",
    "        mapping[ch] = i\n",
    "    return mapping\n",
    "\n",
    "# encode a string using the mapping\n",
    "def encode(string, mapping):\n",
    "    encoded = []\n",
    "    for c in string:\n",
    "        encoded.append(mapping[c])\n",
    "    return encoded\n",
    "\n",
    "# reverse mapping for decoding\n",
    "def create_reverse_mapping(mapping):\n",
    "    reverse_mapping = {}\n",
    "    for ch, i in mapping.items():\n",
    "        reverse_mapping[i] = ch\n",
    "    return reverse_mapping\n",
    "\n",
    "# decode an encoded list back to the original string\n",
    "def decode(encoded, reverse_mapping):\n",
    "    decoded = []\n",
    "    for i in encoded:\n",
    "        decoded.append(reverse_mapping[i])\n",
    "    return ''.join(decoded)\n",
    "\n",
    "encoder_map = create_mapping()\n",
    "decoder_map = create_reverse_mapping(encoder_map)\n",
    "\n",
    "sample_string = encode(\"hola\", encoder_map)\n",
    "print(\"Encoded:\", sample_string)\n",
    "\n",
    "decoded_string = decode(sample_string, decoder_map)\n",
    "print(\"Decoded:\", decoded_string)\n"
   ]
  },
  {
   "cell_type": "code",
   "execution_count": 7,
   "metadata": {},
   "outputs": [
    {
     "name": "stdout",
     "output_type": "stream",
     "text": [
      "tensor([18, 47, 56, 57, 58,  1, 15, 47, 58, 47, 64, 43, 52, 10,  0, 14, 43, 44,\n",
      "        53, 56, 43,  1, 61, 43,  1, 54, 56, 53, 41, 43, 43, 42,  1, 39, 52, 63,\n",
      "         1, 44, 59, 56, 58, 46, 43, 56,  6,  1, 46, 43, 39, 56,  1, 51, 43,  1,\n",
      "        57, 54, 43, 39, 49,  8,  0,  0, 13, 50, 50, 10,  0, 31, 54, 43, 39, 49,\n",
      "         6,  1, 57, 54, 43, 39, 49,  8,  0,  0, 18, 47, 56, 57, 58,  1, 15, 47,\n",
      "        58, 47, 64, 43, 52, 10,  0, 37, 53, 59])\n"
     ]
    }
   ],
   "source": [
    "import torch\n",
    "\n",
    "data = torch.tensor(encode(full_text, encoder_map), dtype=torch.int64) # convert data into a tensor\n",
    "print(data[:100])\n",
    "\n",
    "split = int(0.8*len(data))\n",
    "training_set = data[:split] # split into training and validation set\n",
    "validation_set = data[split:]"
   ]
  }
 ],
 "metadata": {
  "kernelspec": {
   "display_name": "Python 3",
   "language": "python",
   "name": "python3"
  },
  "language_info": {
   "codemirror_mode": {
    "name": "ipython",
    "version": 3
   },
   "file_extension": ".py",
   "mimetype": "text/x-python",
   "name": "python",
   "nbconvert_exporter": "python",
   "pygments_lexer": "ipython3",
   "version": "3.10.12"
  }
 },
 "nbformat": 4,
 "nbformat_minor": 2
}
